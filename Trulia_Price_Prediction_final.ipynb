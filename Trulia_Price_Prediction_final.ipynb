{
 "cells": [
  {
   "cell_type": "code",
   "execution_count": null,
   "metadata": {
    "executionInfo": {
     "elapsed": 278,
     "status": "ok",
     "timestamp": 1679627615133,
     "user": {
      "displayName": "Rohith Reddy Amanaganti",
      "userId": "00250931059886573836"
     },
     "user_tz": 420
    },
    "id": "SYB0OwYr6ng7"
   },
   "outputs": [],
   "source": [
    "import pandas as pd\n",
    "import re\n",
    "import numpy as np\n",
    "import matplotlib.pyplot as plt\n",
    "import seaborn as sns\n",
    "import statsmodels.api as sm\n",
    "import statsmodels.formula.api as smf\n",
    "import itertools\n",
    "from sklearn.model_selection import train_test_split\n",
    "from sklearn.ensemble import RandomForestRegressor, GradientBoostingRegressor\n",
    "from sklearn.metrics import precision_score, mean_absolute_percentage_error,recall_score, accuracy_score,f1_score, confusion_matrix, mean_squared_error,ConfusionMatrixDisplay, roc_auc_score, roc_curve\n",
    "from tensorflow.keras.models import Sequential\n",
    "from tensorflow.keras.layers import Dense \n",
    "pd.set_option('display.max_columns', None)\n",
    "import folium\n",
    "import pgeocode"
   ]
  },
  {
   "cell_type": "markdown",
   "metadata": {
    "id": "7ayRWE6I97za"
   },
   "source": [
    "## Part 1 - Exploratory Data Analysis"
   ]
  },
  {
   "cell_type": "code",
   "execution_count": null,
   "metadata": {
    "colab": {
     "base_uri": "https://localhost:8080/",
     "height": 659
    },
    "executionInfo": {
     "elapsed": 1057,
     "status": "ok",
     "timestamp": 1679611577072,
     "user": {
      "displayName": "Rohith Reddy Amanaganti",
      "userId": "00250931059886573836"
     },
     "user_tz": 420
    },
    "id": "r7BwlaQS9-qt",
    "outputId": "5f4e0dd2-e83e-4f3e-ad15-643c1353db8b"
   },
   "outputs": [],
   "source": [
    "house_data_df = pd.read_csv('processed_data_transformed.csv')\n",
    "house_data_df.head()"
   ]
  },
  {
   "cell_type": "code",
   "execution_count": null,
   "metadata": {
    "colab": {
     "base_uri": "https://localhost:8080/",
     "height": 659
    },
    "executionInfo": {
     "elapsed": 362,
     "status": "ok",
     "timestamp": 1679611592910,
     "user": {
      "displayName": "Rohith Reddy Amanaganti",
      "userId": "00250931059886573836"
     },
     "user_tz": 420
    },
    "id": "cBmPr9E--8Rb",
    "outputId": "9b941d1a-20f9-41c7-fba2-8ee7874a34a1"
   },
   "outputs": [],
   "source": [
    "house_data_df.drop(['Unnamed: 0','Index','ID'], axis = 1, inplace=True)\n",
    "house_data_df.head()"
   ]
  },
  {
   "cell_type": "code",
   "execution_count": null,
   "metadata": {
    "colab": {
     "base_uri": "https://localhost:8080/",
     "height": 378
    },
    "executionInfo": {
     "elapsed": 140,
     "status": "ok",
     "timestamp": 1679611596078,
     "user": {
      "displayName": "Rohith Reddy Amanaganti",
      "userId": "00250931059886573836"
     },
     "user_tz": 420
    },
    "id": "M_C0-iT31kL4",
    "outputId": "42886314-c57c-4ad8-827c-49f1c9672424"
   },
   "outputs": [],
   "source": [
    "house_data_df.describe()"
   ]
  },
  {
   "cell_type": "code",
   "execution_count": null,
   "metadata": {
    "colab": {
     "base_uri": "https://localhost:8080/",
     "height": 350
    },
    "executionInfo": {
     "elapsed": 805,
     "status": "ok",
     "timestamp": 1679590921892,
     "user": {
      "displayName": "Rohith Reddy Amanaganti",
      "userId": "00250931059886573836"
     },
     "user_tz": 420
    },
    "id": "wRq4setV1xS1",
    "outputId": "bed45842-c98b-42f1-9d66-f7f3951a7da4"
   },
   "outputs": [],
   "source": [
    "# Check for Missing Data\n",
    "sns.heatmap(house_data_df.isnull(), yticklabels=False, cbar=False, cmap='viridis')"
   ]
  },
  {
   "cell_type": "code",
   "execution_count": null,
   "metadata": {
    "colab": {
     "base_uri": "https://localhost:8080/"
    },
    "executionInfo": {
     "elapsed": 221,
     "status": "ok",
     "timestamp": 1679590926082,
     "user": {
      "displayName": "Rohith Reddy Amanaganti",
      "userId": "00250931059886573836"
     },
     "user_tz": 420
    },
    "id": "iG5PdQko18QJ",
    "outputId": "f4c59841-2a1c-42b6-b4ef-b58255e6c473"
   },
   "outputs": [],
   "source": [
    "# Check for the zero values of price\n",
    "sum(house_data_df['Price'] == 0)"
   ]
  },
  {
   "cell_type": "code",
   "execution_count": null,
   "metadata": {},
   "outputs": [],
   "source": [
    "# Check for the zero values of floor space\n",
    "sum(house_data_df['Floor Space'] == 0)"
   ]
  },
  {
   "cell_type": "code",
   "execution_count": null,
   "metadata": {
    "colab": {
     "base_uri": "https://localhost:8080/"
    },
    "executionInfo": {
     "elapsed": 4,
     "status": "ok",
     "timestamp": 1679590927846,
     "user": {
      "displayName": "Rohith Reddy Amanaganti",
      "userId": "00250931059886573836"
     },
     "user_tz": 420
    },
    "id": "v0iddcSD2I_x",
    "outputId": "8139827a-f729-44e6-b78f-dbbe0b841563"
   },
   "outputs": [],
   "source": [
    "# Check for the class names of categorical data\n",
    "house_data_df['Condition'].unique()"
   ]
  },
  {
   "cell_type": "code",
   "execution_count": null,
   "metadata": {
    "colab": {
     "base_uri": "https://localhost:8080/"
    },
    "executionInfo": {
     "elapsed": 438,
     "status": "ok",
     "timestamp": 1679590929175,
     "user": {
      "displayName": "Rohith Reddy Amanaganti",
      "userId": "00250931059886573836"
     },
     "user_tz": 420
    },
    "id": "9Tqpf7Ne5rwH",
    "outputId": "a99771d4-a833-4702-9887-28bb06ab9cb9"
   },
   "outputs": [],
   "source": [
    "house_data_df['Property Type'].unique()"
   ]
  },
  {
   "cell_type": "code",
   "execution_count": null,
   "metadata": {},
   "outputs": [],
   "source": [
    "sns.boxplot(data=house_data_df, x='Bed', y='Property Type')"
   ]
  },
  {
   "cell_type": "code",
   "execution_count": null,
   "metadata": {},
   "outputs": [],
   "source": [
    "sns.boxplot(data=house_data_df, x='Price', y='Property Type')"
   ]
  },
  {
   "cell_type": "code",
   "execution_count": null,
   "metadata": {},
   "outputs": [],
   "source": [
    "fig, ax = plt.subplots(figsize=(15, 6))\n",
    "sns.boxplot(data=house_data_df, y='Zip_Code', x='Price', orient=\"h\", ax = ax)"
   ]
  },
  {
   "cell_type": "code",
   "execution_count": null,
   "metadata": {},
   "outputs": [],
   "source": [
    "sns.pairplot(data=house_data_df[['Price', 'Bed', 'Bath', 'Floor Space']])"
   ]
  },
  {
   "cell_type": "code",
   "execution_count": null,
   "metadata": {},
   "outputs": [],
   "source": [
    "sns.heatmap(data=house_data_df[['Price', 'Bed', 'Bath', 'Floor Space']].corr(), linewidths=0.5, center=0, annot=True)"
   ]
  },
  {
   "cell_type": "markdown",
   "metadata": {
    "id": "s-HOQImmEKuz"
   },
   "source": [
    "## Part 2 - Data Processing"
   ]
  },
  {
   "cell_type": "code",
   "execution_count": null,
   "metadata": {},
   "outputs": [],
   "source": [
    "# Drop the duplicates based on the address\n",
    "house_data_df.drop_duplicates(subset = ['Address'], inplace = True)\n",
    "house_data_df.shape"
   ]
  },
  {
   "cell_type": "code",
   "execution_count": null,
   "metadata": {},
   "outputs": [],
   "source": [
    "# Remove the zero values om bathroom, price and floor space\n",
    "house_data_df.drop(house_data_df[house_data_df.Price  == 0].index, inplace = True)\n",
    "house_data_df.drop(house_data_df[house_data_df.Bath  == 0].index, inplace = True)\n",
    "house_data_df.drop(house_data_df[house_data_df['Floor Space']  == 0].index, inplace = True)\n",
    "house_data_df.shape"
   ]
  },
  {
   "cell_type": "code",
   "execution_count": null,
   "metadata": {},
   "outputs": [],
   "source": [
    "house_data_df.describe()"
   ]
  },
  {
   "cell_type": "code",
   "execution_count": null,
   "metadata": {},
   "outputs": [],
   "source": [
    "# Calculate the age of the property\n",
    "house_data_df.drop(house_data_df[house_data_df['Years Sold']  == 'None'].index, inplace = True)\n",
    "year_sold = [float(d) for d in house_data_df['Years Sold']]\n",
    "house_data_df['Prop_Age'] = year_sold - house_data_df['Year Built']\n",
    "house_data_df.head()"
   ]
  },
  {
   "cell_type": "code",
   "execution_count": null,
   "metadata": {},
   "outputs": [],
   "source": [
    "# The distribution of numeric variables\n",
    "house_data_df[['Price', 'Bed', 'Bath', 'Floor Space','Prop_Age','Num of Rooms']].hist(figsize = (8,6))\n",
    "plt.show()"
   ]
  },
  {
   "cell_type": "markdown",
   "metadata": {},
   "source": [
    "## Part 3 - Modeling"
   ]
  },
  {
   "cell_type": "markdown",
   "metadata": {},
   "source": [
    "### Linear Regression Model 1 (Price as dependent variable)"
   ]
  },
  {
   "cell_type": "code",
   "execution_count": null,
   "metadata": {
    "colab": {
     "base_uri": "https://localhost:8080/"
    },
    "executionInfo": {
     "elapsed": 128,
     "status": "ok",
     "timestamp": 1679611609172,
     "user": {
      "displayName": "Rohith Reddy Amanaganti",
      "userId": "00250931059886573836"
     },
     "user_tz": 420
    },
    "id": "2qoDSdMgENq1",
    "outputId": "75f0494b-58c5-48bf-d868-544817fe7bcd"
   },
   "outputs": [],
   "source": [
    "house_data_df1 = house_data_df\n",
    "house_data_df1.drop(house_data_df1[house_data_df1.Price  < 300000].index, inplace = True)\n",
    "house_data_df1.shape"
   ]
  },
  {
   "cell_type": "code",
   "execution_count": null,
   "metadata": {
    "executionInfo": {
     "elapsed": 289,
     "status": "ok",
     "timestamp": 1679611755973,
     "user": {
      "displayName": "Rohith Reddy Amanaganti",
      "userId": "00250931059886573836"
     },
     "user_tz": 420
    },
    "id": "_5T_7qC8AjnS"
   },
   "outputs": [],
   "source": [
    "house_data_df_model1 = house_data_df1[['Price','Bed','Bath','Floor Space','Parking-Garage','Parking-Open','Zip_Code']]"
   ]
  },
  {
   "cell_type": "code",
   "execution_count": null,
   "metadata": {
    "colab": {
     "base_uri": "https://localhost:8080/",
     "height": 268
    },
    "executionInfo": {
     "elapsed": 138,
     "status": "ok",
     "timestamp": 1679611757035,
     "user": {
      "displayName": "Rohith Reddy Amanaganti",
      "userId": "00250931059886573836"
     },
     "user_tz": 420
    },
    "id": "-lcoyYIDBAFE",
    "outputId": "1e4bbee0-5df8-4f3f-fcde-e2b99353da18"
   },
   "outputs": [],
   "source": [
    "zip_dummies = pd.get_dummies(house_data_df_model1['Zip_Code'])\n",
    "zip_dummies.head()"
   ]
  },
  {
   "cell_type": "code",
   "execution_count": null,
   "metadata": {
    "colab": {
     "base_uri": "https://localhost:8080/",
     "height": 285
    },
    "executionInfo": {
     "elapsed": 173,
     "status": "ok",
     "timestamp": 1679611760040,
     "user": {
      "displayName": "Rohith Reddy Amanaganti",
      "userId": "00250931059886573836"
     },
     "user_tz": 420
    },
    "id": "bZbxFS9_Bg54",
    "outputId": "d280f01d-9ecf-4b6f-a73a-017a057de93f"
   },
   "outputs": [],
   "source": [
    "df_model1 = pd.concat([house_data_df_model1, zip_dummies], axis=1)      \n",
    "df_model1.drop(['Zip_Code', 94965.0], inplace=True, axis=1)\n",
    "df_model1.head()"
   ]
  },
  {
   "cell_type": "markdown",
   "metadata": {
    "id": "f623jIaKB6w1"
   },
   "source": [
    "Dropped 94965.0 zip code from columns, it'd be the base "
   ]
  },
  {
   "cell_type": "code",
   "execution_count": null,
   "metadata": {
    "executionInfo": {
     "elapsed": 137,
     "status": "ok",
     "timestamp": 1679611762808,
     "user": {
      "displayName": "Rohith Reddy Amanaganti",
      "userId": "00250931059886573836"
     },
     "user_tz": 420
    },
    "id": "axYPZGYTCAjs"
   },
   "outputs": [],
   "source": [
    "df_model1.columns = df_model1.columns.astype(str)\n",
    "features = df_model1.drop(['Price'], axis = 1, inplace = False)\n",
    "features = sm.add_constant(features)\n",
    "price = df_model1['Price']\n",
    "X_train, X_test, y_train, y_test = train_test_split(features, price, test_size=0.2, random_state=42)"
   ]
  },
  {
   "cell_type": "code",
   "execution_count": null,
   "metadata": {
    "colab": {
     "base_uri": "https://localhost:8080/"
    },
    "executionInfo": {
     "elapsed": 143,
     "status": "ok",
     "timestamp": 1679611765563,
     "user": {
      "displayName": "Rohith Reddy Amanaganti",
      "userId": "00250931059886573836"
     },
     "user_tz": 420
    },
    "id": "GVICuR6vCsa-",
    "outputId": "56d4c5c6-be8e-4dd0-e7a9-fc0beeef08e2"
   },
   "outputs": [],
   "source": [
    "model_lr1 = sm.OLS(y_train, X_train).fit()\n",
    "print(model_lr1.summary())"
   ]
  },
  {
   "cell_type": "code",
   "execution_count": null,
   "metadata": {
    "colab": {
     "base_uri": "https://localhost:8080/"
    },
    "executionInfo": {
     "elapsed": 140,
     "status": "ok",
     "timestamp": 1679611797400,
     "user": {
      "displayName": "Rohith Reddy Amanaganti",
      "userId": "00250931059886573836"
     },
     "user_tz": 420
    },
    "id": "5rikUnInDTQ0",
    "outputId": "dc3406fd-be3b-42b8-b9b0-768e2b72a01b"
   },
   "outputs": [],
   "source": [
    "mean_absolute_percentage_error(y_test, model_lr1.predict(X_test))"
   ]
  },
  {
   "cell_type": "markdown",
   "metadata": {},
   "source": [
    "### Linear Regression Model 2 (Price as dependent variable, adding Num of Rooms, Condition, and Views to the independent variables)"
   ]
  },
  {
   "cell_type": "code",
   "execution_count": null,
   "metadata": {},
   "outputs": [],
   "source": [
    "house_data_df2 = house_data_df\n",
    "house_data_df2.drop(house_data_df2[house_data_df2.Price  < 10000].index, inplace = True) \n",
    "house_data_df2.head()"
   ]
  },
  {
   "cell_type": "code",
   "execution_count": null,
   "metadata": {},
   "outputs": [],
   "source": [
    "# Manipulate the View\n",
    "house_data_df2.loc[house_data_df2['Views'] == '{}', 'Views'] = 'No View'\n",
    "house_data_df2.head()"
   ]
  },
  {
   "cell_type": "code",
   "execution_count": null,
   "metadata": {},
   "outputs": [],
   "source": [
    "# Manipulate the Parking condition\n",
    "house_data_df2['Parking'] = np.where(house_data_df2['Parking-Carport'] + house_data_df2['Parking-Garage'] + house_data_df2['Parking-Open'] >0 ,1,0)\n",
    "house_data_df2.info()"
   ]
  },
  {
   "cell_type": "code",
   "execution_count": null,
   "metadata": {},
   "outputs": [],
   "source": [
    "house_data_df_model2 = house_data_df2[['Price','Floor Space', 'Num of Rooms', 'Bed','Bath', 'Prop_Age', 'Condition', 'Views', 'Zip_Code', 'Parking']]"
   ]
  },
  {
   "cell_type": "code",
   "execution_count": null,
   "metadata": {},
   "outputs": [],
   "source": [
    "# Dummies for zip code\n",
    "zip_dummies = pd.get_dummies(house_data_df_model2['Zip_Code'])\n",
    "df_model2 = pd.concat([house_data_df_model2, zip_dummies], axis=1)      \n",
    "df_model2.drop(['Zip_Code', 94965.0], inplace=True, axis=1)\n",
    "\n",
    "#Dummies for condition \n",
    "condition_dummies = pd.get_dummies(house_data_df_model2['Condition'])\n",
    "df_model2 = pd.concat([df_model2, condition_dummies], axis=1)      \n",
    "df_model2.drop(['Condition', 'Existing'], inplace=True, axis=1)\n",
    "\n",
    "# Dummines for Views\n",
    "view_dummies = pd.get_dummies(house_data_df_model2['Views'])\n",
    "df_model2 = pd.concat([df_model2, view_dummies], axis=1)      \n",
    "df_model2.drop(['Views', 'No View'], inplace=True, axis=1)"
   ]
  },
  {
   "cell_type": "code",
   "execution_count": null,
   "metadata": {},
   "outputs": [],
   "source": [
    "df_model2.info()"
   ]
  },
  {
   "cell_type": "code",
   "execution_count": null,
   "metadata": {},
   "outputs": [],
   "source": [
    "df_model2 = df_model2.dropna()"
   ]
  },
  {
   "cell_type": "code",
   "execution_count": null,
   "metadata": {},
   "outputs": [],
   "source": [
    "df_model2.columns = df_model2.columns.astype(str)\n",
    "features = df_model2.drop(['Price'], axis = 1, inplace = False)\n",
    "features = sm.add_constant(features)\n",
    "price = df_model2['Price']\n",
    "X_train, X_test, y_train, y_test = train_test_split(features, price, test_size=0.2, random_state=123)"
   ]
  },
  {
   "cell_type": "code",
   "execution_count": null,
   "metadata": {},
   "outputs": [],
   "source": [
    "model_lr2 = sm.OLS(y_train, X_train).fit()\n",
    "print(model_lr2.summary())"
   ]
  },
  {
   "cell_type": "code",
   "execution_count": null,
   "metadata": {},
   "outputs": [],
   "source": [
    "mean_absolute_percentage_error(y_test, model_lr2.predict(X_test))"
   ]
  },
  {
   "cell_type": "markdown",
   "metadata": {},
   "source": [
    "### Linear Regression Model 3 (Price/sqft as dependent variable)"
   ]
  },
  {
   "cell_type": "code",
   "execution_count": null,
   "metadata": {},
   "outputs": [],
   "source": [
    "house_data_df3 = house_data_df\n",
    "# Calculate the price per sqft\n",
    "house_data_df3['Price_per_sqft'] = house_data_df3.Price / house_data_df3['Floor Space']\n",
    "house_data_df3.describe()"
   ]
  },
  {
   "cell_type": "code",
   "execution_count": null,
   "metadata": {},
   "outputs": [],
   "source": [
    "# Detect the outliers based on IQR\n",
    "Q1 = np.percentile(house_data_df3['Price_per_sqft'], 25, interpolation = 'midpoint')\n",
    "Q3 = np.percentile(house_data_df3['Price_per_sqft'], 75, interpolation = 'midpoint')\n",
    "IQR = Q3 - Q1\n",
    "upper=Q3+1.5*IQR\n",
    "lower=Q1-1.5*IQR\n",
    "print(upper, \" - \", lower)"
   ]
  },
  {
   "cell_type": "code",
   "execution_count": null,
   "metadata": {},
   "outputs": [],
   "source": [
    "# Remove the lower outliers\n",
    "house_data_df3 = house_data_df3.drop(house_data_df3[house_data_df3['Price_per_sqft']  > 1728.0236971454897].index)\n",
    "house_data_df3 = house_data_df3.drop(house_data_df3[house_data_df3['Price_per_sqft']  < 170.2150344115821].index)\n",
    "house_data_df3.shape"
   ]
  },
  {
   "cell_type": "code",
   "execution_count": null,
   "metadata": {},
   "outputs": [],
   "source": [
    "house_data_df_model3 = house_data_df3[['Price_per_sqft','Bed','Bath','Floor Space','Parking-Garage','Parking-Open','Property Type','Zip_Code','Prop_Age']]"
   ]
  },
  {
   "cell_type": "code",
   "execution_count": null,
   "metadata": {},
   "outputs": [],
   "source": [
    "house_data_df_model3 = house_data_df_model3.dropna()\n",
    "house_data_df_model3.shape"
   ]
  },
  {
   "cell_type": "code",
   "execution_count": null,
   "metadata": {},
   "outputs": [],
   "source": [
    "type_dummies = pd.get_dummies(house_data_df_model3['Property Type'])\n",
    "zip_dummies = pd.get_dummies(house_data_df_model3['Zip_Code'])\n",
    "df_model3 = pd.concat([house_data_df_model3, type_dummies, zip_dummies], axis=1)  \n",
    "df_model3.drop(['Property Type', 'Apartment'], inplace=True, axis=1)\n",
    "df_model3.drop(['Zip_Code', 94965.0], inplace=True, axis=1)\n",
    "df_model3.head()"
   ]
  },
  {
   "cell_type": "code",
   "execution_count": null,
   "metadata": {},
   "outputs": [],
   "source": [
    "df_model3.columns = df_model3.columns.astype(str)\n",
    "features = df_model3.drop(['Price_per_sqft'], axis = 1, inplace = False)\n",
    "features = sm.add_constant(features)\n",
    "price = df_model3['Price_per_sqft']\n",
    "X_train, X_test, y_train, y_test = train_test_split(features, price, test_size=0.2, random_state=42)"
   ]
  },
  {
   "cell_type": "code",
   "execution_count": null,
   "metadata": {},
   "outputs": [],
   "source": [
    "model_lr3 = sm.OLS(y_train, X_train).fit()\n",
    "print(model_lr3.summary())"
   ]
  },
  {
   "cell_type": "code",
   "execution_count": null,
   "metadata": {},
   "outputs": [],
   "source": [
    "mean_absolute_percentage_error(y_test, model_lr3.predict(X_test))"
   ]
  },
  {
   "cell_type": "markdown",
   "metadata": {},
   "source": [
    "### RF Regressor (Price/sqft as dependent variable)"
   ]
  },
  {
   "cell_type": "code",
   "execution_count": null,
   "metadata": {},
   "outputs": [],
   "source": [
    "model_rf = RandomForestRegressor(n_estimators=100).fit(X_train, y_train)\n",
    "mean_absolute_percentage_error(y_test, model_rf.predict(X_test))"
   ]
  },
  {
   "cell_type": "markdown",
   "metadata": {},
   "source": [
    "### GBRegressor (Price/sqft as dependent variable)"
   ]
  },
  {
   "cell_type": "code",
   "execution_count": null,
   "metadata": {},
   "outputs": [],
   "source": [
    "model_gbr = GradientBoostingRegressor(random_state=0).fit(X_train, y_train)\n",
    "mean_absolute_percentage_error(y_test, model_gbr.predict(X_test))"
   ]
  },
  {
   "cell_type": "markdown",
   "metadata": {},
   "source": [
    "### Neural Networks (Price/sqft as dependent variable)"
   ]
  },
  {
   "cell_type": "code",
   "execution_count": null,
   "metadata": {},
   "outputs": [],
   "source": [
    "modelnn = Sequential()\n",
    "modelnn.add(Dense(20,activation='relu'))\n",
    "modelnn.add(Dense(20,activation='relu'))\n",
    "modelnn.add(Dense(20,activation='relu'))\n",
    "modelnn.add(Dense(20,activation='relu'))\n",
    "modelnn.add(Dense(1)) \n",
    "modelnn.compile(optimizer='adam',loss='mse')"
   ]
  },
  {
   "cell_type": "code",
   "execution_count": null,
   "metadata": {},
   "outputs": [],
   "source": [
    "modelnn.fit(x=X_train,y=y_train, validation_data=(X_test, y_test), batch_size=128, epochs=400)"
   ]
  },
  {
   "cell_type": "code",
   "execution_count": null,
   "metadata": {},
   "outputs": [],
   "source": [
    "mean_absolute_percentage_error(y_test, modelnn.predict(X_test))"
   ]
  },
  {
   "cell_type": "markdown",
   "metadata": {},
   "source": [
    "### Neural Networks - Design 2 (Price/sqft as dependent variable)"
   ]
  },
  {
   "cell_type": "code",
   "execution_count": null,
   "metadata": {},
   "outputs": [],
   "source": [
    "NN_model = Sequential()\n",
    "\n",
    "# The Input Layer :\n",
    "NN_model.add(Dense(128, kernel_initializer='normal',input_dim = X_train.shape[1], activation='relu'))\n",
    "\n",
    "# The Hidden Layers :\n",
    "NN_model.add(Dense(256, kernel_initializer='normal',activation='relu'))\n",
    "NN_model.add(Dense(256, kernel_initializer='normal',activation='relu'))\n",
    "NN_model.add(Dense(256, kernel_initializer='normal',activation='relu'))\n",
    "\n",
    "# The Output Layer :\n",
    "NN_model.add(Dense(1, kernel_initializer='normal',activation='linear'))\n",
    "\n",
    "# Compile the network :\n",
    "NN_model.compile(loss='mean_absolute_error', optimizer='adam', metrics=['mean_absolute_error'])\n",
    "NN_model.summary()"
   ]
  },
  {
   "cell_type": "code",
   "execution_count": null,
   "metadata": {},
   "outputs": [],
   "source": [
    "NN_model.fit(x=X_train,y=y_train, validation_data=(X_test, y_test), batch_size=128, epochs=400)"
   ]
  },
  {
   "cell_type": "code",
   "execution_count": null,
   "metadata": {},
   "outputs": [],
   "source": [
    "mean_absolute_percentage_error(y_test, NN_model.predict(X_test))"
   ]
  },
  {
   "cell_type": "markdown",
   "metadata": {},
   "source": [
    "## Part 4 - Result Visualization"
   ]
  },
  {
   "cell_type": "code",
   "execution_count": null,
   "metadata": {},
   "outputs": [],
   "source": [
    "def get_coef_table(lin_reg):\n",
    "    ''' lin_reg is a fitted statsmodels regression model\n",
    "    Return a dataframe containing coefficients, pvalues, and the confidence intervals\n",
    "    '''\n",
    "    err_series = lin_reg.params - lin_reg.conf_int()[0]\n",
    "    coef_df = pd.DataFrame({'coef': lin_reg.params.values[0:],\n",
    "                            'ci_err': err_series.values[0:],\n",
    "                            'pvalue': lin_reg.pvalues.round(4).values[0:],\n",
    "                            'varname': err_series.index.values[0:]\n",
    "                           })\n",
    "    return coef_df"
   ]
  },
  {
   "cell_type": "code",
   "execution_count": null,
   "metadata": {},
   "outputs": [],
   "source": [
    "get_coef_table(model_lr3)"
   ]
  },
  {
   "cell_type": "code",
   "execution_count": null,
   "metadata": {},
   "outputs": [],
   "source": [
    "df_result = get_coef_table(model_lr3)\n",
    "df_result['coef_diff'] =  df_result['coef'][0] + df_result['coef']\n",
    "df_result = df_result[['varname','coef_diff']]\n",
    "df_result = df_result[14:]\n",
    "df_result['coef_diff'] = df_result['coef_diff'] - np.min(df_result['coef_diff'])\n",
    "df_result['varname'] = df_result['varname'].astype(float).astype(int)\n",
    "df_result"
   ]
  },
  {
   "cell_type": "code",
   "execution_count": null,
   "metadata": {},
   "outputs": [],
   "source": [
    "nomi = pgeocode.Nominatim('us')\n",
    "\n",
    "edf = df_result.copy()\n",
    "edf['varname'] = edf['varname'].astype(float).astype(int).astype(str)\n",
    "edf['Latitude'] = (nomi.query_postal_code(edf['varname'].tolist()).latitude)\n",
    "edf['Longitude'] = (nomi.query_postal_code(edf['varname'].tolist()).longitude)\n",
    "\n",
    "edf"
   ]
  },
  {
   "cell_type": "code",
   "execution_count": null,
   "metadata": {},
   "outputs": [],
   "source": [
    "df_viz = edf.dropna()\n",
    "\n",
    "from folium.plugins import MarkerCluster\n",
    "map = folium.Map(location=[37.7749, -122.4194], zoom_start=11)\n",
    "marker_cluster = MarkerCluster().add_to(map) \n",
    "\n",
    "# add a marker for each zipcode\n",
    "for index, row in df_viz.iterrows():\n",
    "    zipcode = row['varname']\n",
    "    lat = row['Latitude']\n",
    "    lon = row['Longitude']\n",
    "    price_premium = row['coef_diff']\n",
    "    tooltip = f\"Zipcode: {zipcode}\"\n",
    "    marker = folium.Marker(location=[lat, lon], tooltip=tooltip, popup=\"\"\"\n",
    "                  <i>Price Premium: </i> <br> <b>${}</b> \n",
    "                  \"\"\".format(round(price_premium)))\n",
    "    marker.add_to(marker_cluster)"
   ]
  },
  {
   "cell_type": "code",
   "execution_count": null,
   "metadata": {},
   "outputs": [],
   "source": [
    "print(map)"
   ]
  }
 ],
 "metadata": {
  "colab": {
   "provenance": []
  },
  "kernelspec": {
   "display_name": "Python 3 (ipykernel)",
   "language": "python",
   "name": "python3"
  },
  "language_info": {
   "codemirror_mode": {
    "name": "ipython",
    "version": 3
   },
   "file_extension": ".py",
   "mimetype": "text/x-python",
   "name": "python",
   "nbconvert_exporter": "python",
   "pygments_lexer": "ipython3",
   "version": "3.9.12"
  }
 },
 "nbformat": 4,
 "nbformat_minor": 1
}
