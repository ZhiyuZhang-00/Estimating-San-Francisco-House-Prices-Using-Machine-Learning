{
 "cells": [
  {
   "cell_type": "code",
   "execution_count": 50,
   "id": "9a55c63e-4460-4ad4-9481-3880d858e5e8",
   "metadata": {},
   "outputs": [],
   "source": [
    "from selenium import webdriver\n",
    "from selenium.webdriver.common.keys import Keys\n",
    "from selenium.webdriver.common.by import By\n",
    "import time\n",
    "from selenium.webdriver.support.ui import WebDriverWait\n",
    "from selenium.webdriver.support import expected_conditions as EC\n",
    "from bs4 import BeautifulSoup\n",
    "import requests\n",
    "import re\n",
    "import pandas as pd\n",
    "import time\n",
    "from tqdm import tqdm\n",
    "import os\n",
    "import json"
   ]
  },
  {
   "cell_type": "markdown",
   "id": "d3fd216e-e6e6-4ab4-be0c-cae87994e6f0",
   "metadata": {},
   "source": [
    "### Feature Extraction from Trulia"
   ]
  },
  {
   "cell_type": "code",
   "execution_count": 54,
   "id": "fe14246e-489f-45be-bec0-20a4f83c11a6",
   "metadata": {},
   "outputs": [],
   "source": [
    "BASE_HEADERS = {\n",
    "    \"user-agent\": \"Mozilla/5.0 (Windows NT 10.0; Win64; x64) AppleWebKit/537.36 (KHTML, like Gecko) Chrome/96.0.4664.110 Safari/537.36\",\n",
    "}\n",
    "\n",
    "url_iter = [\"https://www.trulia.com/p/ca/san-francisco/1531-funston-ave-san-francisco-ca-94122--2083026624\" ,\"https://www.trulia.com/p/ca/san-francisco/170-highland-ave-san-francisco-ca-94110--2082898130\"] "
   ]
  },
  {
   "cell_type": "code",
   "execution_count": 55,
   "id": "06e868f8-dd62-489a-9121-a16ce2cd4c4b",
   "metadata": {
    "tags": []
   },
   "outputs": [],
   "source": [
    "#Initialising List of dictionaries - each dictionary contains information about a house\n",
    "house_dict_list = []\n",
    "#Looping on each URL\n",
    "for url_1 in url_iter:  \n",
    "    #Could replace with opening html files\n",
    "    response = requests.get(url_1, headers=BASE_HEADERS)\n",
    "    soup_each_house = BeautifulSoup(response.content, 'html.parser')\n",
    "    \n",
    "    house_details_dict = {}\n",
    "    house_details_dict['URL'] = url_1\n",
    "    \n",
    "    #Feature Extraction - higher level details in the header\n",
    "    try:\n",
    "        house_details_dict['media_count'] = soup_each_house.find('span', attrs={'data-testid' : \"media-count\"}).text\n",
    "    except:\n",
    "        house_details_dict['media_count'] = \"NA\"\n",
    "    try:\n",
    "        house_details_dict['Price'] = soup_each_house.find('div', attrs={'data-testid' : \"home-price-details-medium\"}).find('h3').text\n",
    "    except:\n",
    "        house_details_dict['Price'] = \"NA\"\n",
    "    try:\n",
    "        add_temp = soup_each_house.find('div', attrs={'data-testid':\"home-details-summary-address\"}).findAll('span')\n",
    "        house_details_dict['Address'] = add_temp[0].text + \", \" +add_temp[1].text\n",
    "    except:\n",
    "        house_details_dict['Address'] = \"NA\"\n",
    "    try:\n",
    "        house_details_dict['Last_Sold'] = soup_each_house.find('div', attrs={'class':\"Text__TextBase-sc-1cait9d-0-div Text__TextContainerBase-sc-1cait9d-1 csrRqu gUnlde\"}).text\n",
    "    except:\n",
    "        house_details_dict['Last_Sold'] = \"NA\"\n",
    "    try:\n",
    "        house_details_dict['Beds'] = soup_each_house.find('div', attrs={'data-testid':\"home-summary-size-bedrooms\"}).text\n",
    "    except:\n",
    "        house_details_dict['Beds'] = \"NA\"\n",
    "    try:\n",
    "        house_details_dict['Baths'] = soup_each_house.find('div', attrs={'data-testid':\"home-summary-size-bathrooms\"}).text\n",
    "    except:\n",
    "        house_details_dict['Baths'] = \"NA\"\n",
    "    try:\n",
    "        house_details_dict['Floor_Space'] = soup_each_house.find('div', attrs={'data-testid':\"home-summary-size-floorspace\"}).text\n",
    "    except:\n",
    "        house_details_dict['Floor_Space'] = \"NA\"\n",
    "    \n",
    "    #Updating dictionaries with information from the sections like interior details\n",
    "    try:        \n",
    "        table_list = soup_each_house.findAll('table', attrs={'class':'Table-latbb5-3 hMYIhS'})\n",
    "        for table in table_list:\n",
    "            heading = table.find('h3').text\n",
    "            house_details_dict[heading] = {}\n",
    "            for row in table.find('tbody').findAll('tr'):\n",
    "                subheading = row.find('div').text\n",
    "                row_text = []\n",
    "                for i in row.findAll('span', attrs = {'class':\"Feature__FeatureListItem-sc-w1mxt5-0 gmLKqq\"}):\n",
    "                    if ':' in i.text:\n",
    "                        dict_temp = {}\n",
    "                        dict_temp[i.text.split(':')[0].strip()] = i.text.split(':')[1].strip()\n",
    "                        row_text.append(dict_temp)\n",
    "                    else:\n",
    "                        row_text.append(i.text)\n",
    "                house_details_dict[heading][subheading] = row_text\n",
    "            if heading == \"Miscellaneous\":\n",
    "                break\n",
    "    except Exception as e:\n",
    "        print(e)\n",
    "    house_dict_list.append(house_details_dict)\n",
    "    time.sleep(10)"
   ]
  },
  {
   "cell_type": "code",
   "execution_count": 57,
   "id": "03dd8d12-c90d-4d32-be87-c1dbfb903f80",
   "metadata": {},
   "outputs": [],
   "source": [
    "with open('test.json', 'w') as fout:\n",
    "    json.dump(house_dict_list , fout)"
   ]
  }
 ],
 "metadata": {
  "kernelspec": {
   "display_name": "Python 3 (ipykernel)",
   "language": "python",
   "name": "python3"
  },
  "language_info": {
   "codemirror_mode": {
    "name": "ipython",
    "version": 3
   },
   "file_extension": ".py",
   "mimetype": "text/x-python",
   "name": "python",
   "nbconvert_exporter": "python",
   "pygments_lexer": "ipython3",
   "version": "3.9.12"
  }
 },
 "nbformat": 4,
 "nbformat_minor": 5
}
